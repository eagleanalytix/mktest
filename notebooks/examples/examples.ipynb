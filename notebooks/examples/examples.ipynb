{
 "cells": [
  {
   "cell_type": "markdown",
   "metadata": {},
   "source": [
    "# Code Examples\n",
    "\n",
    "Practical code examples and patterns.\n",
    "\n",
    "## Contents\n",
    "\n",
    "1. Data structures\n",
    "2. Algorithms\n",
    "3. Design patterns\n",
    "4. Best practices"
   ]
  },
  {
   "cell_type": "markdown",
   "metadata": {},
   "source": [
    "## Example 1: Data Processing Pipeline"
   ]
  },
  {
   "cell_type": "code",
   "execution_count": null,
   "metadata": {},
   "outputs": [],
   "source": [
    "class DataPipeline:\n",
    "    '''A simple data processing pipeline.'''\n",
    "    \n",
    "    def __init__(self):\n",
    "        self.steps = []\n",
    "    \n",
    "    def add_step(self, func):\n",
    "        '''Add a processing step.'''\n",
    "        self.steps.append(func)\n",
    "        return self\n",
    "    \n",
    "    def process(self, data):\n",
    "        '''Process data through all steps.'''\n",
    "        result = data\n",
    "        for step in self.steps:\n",
    "            result = step(result)\n",
    "        return result\n",
    "\n",
    "# Usage example\n",
    "pipeline = DataPipeline()\n",
    "pipeline.add_step(lambda x: [i * 2 for i in x])\n",
    "pipeline.add_step(lambda x: [i + 10 for i in x])\n",
    "\n",
    "result = pipeline.process([1, 2, 3, 4, 5])\n",
    "print('Pipeline result:', result)"
   ]
  },
  {
   "cell_type": "markdown",
   "metadata": {},
   "source": [
    "## Example 2: Configuration Manager"
   ]
  },
  {
   "cell_type": "code",
   "execution_count": null,
   "metadata": {},
   "outputs": [],
   "source": [
    "import json\n",
    "\n",
    "class ConfigManager:\n",
    "    '''Manage application configuration.'''\n",
    "    \n",
    "    def __init__(self, defaults=None):\n",
    "        self.config = defaults or {}\n",
    "    \n",
    "    def get(self, key, default=None):\n",
    "        '''Get configuration value.'''\n",
    "        return self.config.get(key, default)\n",
    "    \n",
    "    def set(self, key, value):\n",
    "        '''Set configuration value.'''\n",
    "        self.config[key] = value\n",
    "    \n",
    "    def load_from_dict(self, config_dict):\n",
    "        '''Load configuration from dictionary.'''\n",
    "        self.config.update(config_dict)\n",
    "    \n",
    "    def to_dict(self):\n",
    "        '''Export configuration as dictionary.'''\n",
    "        return self.config.copy()\n",
    "\n",
    "# Usage example\n",
    "config = ConfigManager({'debug': False})\n",
    "config.set('log_level', 'INFO')\n",
    "print('Configuration:', config.to_dict())"
   ]
  },
  {
   "cell_type": "markdown",
   "metadata": {},
   "source": [
    "## Example 3: Simple Cache Implementation"
   ]
  },
  {
   "cell_type": "code",
   "execution_count": null,
   "metadata": {},
   "outputs": [],
   "source": [
    "from functools import wraps\n",
    "from time import time\n",
    "\n",
    "class SimpleCache:\n",
    "    '''Simple in-memory cache with TTL.'''\n",
    "    \n",
    "    def __init__(self, ttl=60):\n",
    "        self.cache = {}\n",
    "        self.ttl = ttl\n",
    "    \n",
    "    def get(self, key):\n",
    "        '''Get value from cache.'''\n",
    "        if key in self.cache:\n",
    "            value, timestamp = self.cache[key]\n",
    "            if time() - timestamp < self.ttl:\n",
    "                return value\n",
    "            else:\n",
    "                del self.cache[key]\n",
    "        return None\n",
    "    \n",
    "    def set(self, key, value):\n",
    "        '''Set value in cache.'''\n",
    "        self.cache[key] = (value, time())\n",
    "    \n",
    "    def decorator(self, func):\n",
    "        '''Cache decorator.'''\n",
    "        @wraps(func)\n",
    "        def wrapper(*args, **kwargs):\n",
    "            key = f\"{func.__name__}_{args}_{kwargs}\"\n",
    "            result = self.get(key)\n",
    "            if result is None:\n",
    "                result = func(*args, **kwargs)\n",
    "                self.set(key, result)\n",
    "            return result\n",
    "        return wrapper\n",
    "\n",
    "# Usage example\n",
    "cache = SimpleCache(ttl=300)\n",
    "\n",
    "@cache.decorator\n",
    "def expensive_function(x):\n",
    "    print('Computing...')\n",
    "    return x ** 2\n",
    "\n",
    "print(expensive_function(5))  # Computes\n",
    "print(expensive_function(5))  # Returns from cache"
   ]
  },
  {
   "cell_type": "markdown",
   "metadata": {},
   "source": [
    "## Example 4: Event System"
   ]
  },
  {
   "cell_type": "code",
   "execution_count": null,
   "metadata": {},
   "outputs": [],
   "source": [
    "class EventSystem:\n",
    "    '''Simple event system for pub/sub pattern.'''\n",
    "    \n",
    "    def __init__(self):\n",
    "        self.listeners = {}\n",
    "    \n",
    "    def on(self, event_name, callback):\n",
    "        '''Register event listener.'''\n",
    "        if event_name not in self.listeners:\n",
    "            self.listeners[event_name] = []\n",
    "        self.listeners[event_name].append(callback)\n",
    "    \n",
    "    def emit(self, event_name, *args, **kwargs):\n",
    "        '''Emit event to all listeners.'''\n",
    "        if event_name in self.listeners:\n",
    "            for callback in self.listeners[event_name]:\n",
    "                callback(*args, **kwargs)\n",
    "    \n",
    "    def off(self, event_name, callback=None):\n",
    "        '''Remove event listener(s).'''\n",
    "        if callback is None:\n",
    "            self.listeners.pop(event_name, None)\n",
    "        elif event_name in self.listeners:\n",
    "            self.listeners[event_name].remove(callback)\n",
    "\n",
    "# Usage example\n",
    "events = EventSystem()\n",
    "\n",
    "def on_data_received(data):\n",
    "    print(f'Data received: {data}')\n",
    "\n",
    "events.on('data', on_data_received)\n",
    "events.emit('data', {'value': 42})"
   ]
  },
  {
   "cell_type": "markdown",
   "metadata": {},
   "source": [
    "## Example 5: Retry Decorator"
   ]
  },
  {
   "cell_type": "code",
   "execution_count": null,
   "metadata": {},
   "outputs": [],
   "source": [
    "import time\n",
    "from functools import wraps\n",
    "\n",
    "def retry(max_attempts=3, delay=1, backoff=2):\n",
    "    '''Retry decorator with exponential backoff.'''\n",
    "    def decorator(func):\n",
    "        @wraps(func)\n",
    "        def wrapper(*args, **kwargs):\n",
    "            attempts = 0\n",
    "            current_delay = delay\n",
    "            \n",
    "            while attempts < max_attempts:\n",
    "                try:\n",
    "                    return func(*args, **kwargs)\n",
    "                except Exception as e:\n",
    "                    attempts += 1\n",
    "                    if attempts == max_attempts:\n",
    "                        raise\n",
    "                    print(f'Attempt {attempts} failed: {e}')\n",
    "                    print(f'Retrying in {current_delay} seconds...')\n",
    "                    time.sleep(current_delay)\n",
    "                    current_delay *= backoff\n",
    "        \n",
    "        return wrapper\n",
    "    return decorator\n",
    "\n",
    "# Usage example\n",
    "@retry(max_attempts=3, delay=1)\n",
    "def unstable_operation():\n",
    "    import random\n",
    "    if random.random() < 0.7:\n",
    "        raise Exception('Random failure')\n",
    "    return 'Success!'\n",
    "\n",
    "# This will retry on failure\n",
    "# result = unstable_operation()\n",
    "print('Retry decorator defined successfully!')"
   ]
  },
  {
   "cell_type": "markdown",
   "metadata": {},
   "source": [
    "## Best Practices Summary\n",
    "\n",
    "1. **Use type hints** for better code clarity\n",
    "2. **Implement proper error handling** with try/except blocks\n",
    "3. **Write docstrings** for all functions and classes\n",
    "4. **Follow PEP 8** style guidelines\n",
    "5. **Use context managers** for resource management\n",
    "6. **Implement logging** instead of print statements\n",
    "7. **Write unit tests** for all critical code\n",
    "\n",
    "## Next Steps\n",
    "\n",
    "- Review the [API Reference](../reference/api.md)\n",
    "- Explore [Advanced Topics](../guides/advanced-topics.md)\n",
    "- Practice with the exercises in each section"
   ]
  }
 ],
 "metadata": {
  "kernelspec": {
   "display_name": "Python 3",
   "language": "python",
   "name": "python3"
  },
  "language_info": {
   "codemirror_mode": {
    "name": "ipython",
    "version": 3
   },
   "file_extension": ".py",
   "mimetype": "text/x-python",
   "name": "python",
   "nbconvert_exporter": "python",
   "pygments_lexer": "ipython3",
   "version": "3.8.0"
  }
 },
 "nbformat": 4,
 "nbformat_minor": 4
}
